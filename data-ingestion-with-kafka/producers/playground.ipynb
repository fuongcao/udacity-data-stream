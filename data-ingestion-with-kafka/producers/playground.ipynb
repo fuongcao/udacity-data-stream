{
 "cells": [
  {
   "cell_type": "code",
   "execution_count": null,
   "metadata": {},
   "outputs": [],
   "source": [
    "import pandas as pd\n",
    "raw_df = pd.read_csv(\n",
    "            f\"{Path(__file__).parents[0]}/data/cta_stations.csv\"\n",
    "        ).sort_values(\"order\")"
   ]
  }
 ],
 "metadata": {
  "language_info": {
   "name": "python"
  }
 },
 "nbformat": 4,
 "nbformat_minor": 2
}
